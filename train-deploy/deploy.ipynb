{
  "cells": [
    {
      "cell_type": "code",
      "source": [
        "import tensorflow as tf\r\n",
        "import pretty_midi"
      ],
      "outputs": [],
      "execution_count": 1,
      "metadata": {
        "gather": {
          "logged": 1655453330272
        }
      }
    },
    {
      "cell_type": "code",
      "source": [
        "from azureml.core import Workspace\r\n",
        "from azureml.core import Model\r\n",
        "from azureml.core.resource_configuration import ResourceConfiguration\r\n",
        "\r\n",
        "\r\n",
        "ws = Workspace.from_config()\r\n",
        "\r\n",
        "model = Model.register(workspace=ws,\r\n",
        "                       model_name='music-tf-model',                 # Name of the registered model in your workspace.\r\n",
        "                       model_path='./tf_model',                      # Local file to upload and register as a model.\r\n",
        "                       model_framework=Model.Framework.TENSORFLOW,  # Framework used to create the model.\r\n",
        "                       model_framework_version=tf.__version__,      # Version of tensorflow used to create the model.\r\n",
        "                       description='Music generation model to predict next music sequence.')"
      ],
      "outputs": [
        {
          "output_type": "stream",
          "name": "stdout",
          "text": "Registering model music-tf-model\n"
        }
      ],
      "execution_count": 3,
      "metadata": {
        "jupyter": {
          "source_hidden": false,
          "outputs_hidden": false
        },
        "nteract": {
          "transient": {
            "deleting": false
          }
        },
        "gather": {
          "logged": 1655453370524
        }
      }
    },
    {
      "cell_type": "code",
      "source": [
        "from azureml.core.model import InferenceConfig\r\n",
        "from azureml.core import Environment\r\n",
        "from azureml.core.conda_dependencies import CondaDependencies\r\n",
        "\r\n",
        "env = Environment('my-environment')\r\n",
        "env.python.conda_dependencies = CondaDependencies.create(pip_packages=[\r\n",
        "    'azureml-defaults',\r\n",
        "    'inference-schema[numpy-support]',\r\n",
        "    'pretty_midi',\r\n",
        "    'numpy',\r\n",
        "    'pandas',\r\n",
        "    'pickle',\r\n",
        "    'tensorflow=={}'.format(tf.__version__)\r\n",
        "])"
      ],
      "outputs": [],
      "execution_count": 4,
      "metadata": {
        "jupyter": {
          "source_hidden": false,
          "outputs_hidden": false
        },
        "nteract": {
          "transient": {
            "deleting": false
          }
        },
        "gather": {
          "logged": 1655453377053
        }
      }
    },
    {
      "cell_type": "code",
      "source": [
        "service_name = 'music-tf-lstm'\r\n",
        "\r\n",
        "service = Model.deploy(ws, \r\n",
        "                       service_name,\r\n",
        "                       [model], \r\n",
        "                       overwrite=True)\r\n",
        "service.wait_for_deployment(show_output=True)\r\n"
      ],
      "outputs": [
        {
          "output_type": "stream",
          "name": "stdout",
          "text": "Tips: You can try get_logs(): https://aka.ms/debugimage#dockerlog or local deployment: https://aka.ms/debugimage#debug-locally to debug if deployment takes longer than 10 minutes.\nRunning\n2022-06-17 08:09:45+00:00 Creating Container Registry if not exists.\n2022-06-17 08:09:45+00:00 Registering the environment.\n2022-06-17 08:09:45+00:00 Use the existing image.\n2022-06-17 08:09:47+00:00 Submitting deployment to compute.\n2022-06-17 08:09:51+00:00 Checking the status of deployment music-tf-lstm..\n2022-06-17 08:10:53+00:00 Checking the status of inference endpoint music-tf-lstm.\nSucceeded\nACI service creation operation finished, operation \"Succeeded\"\n"
        }
      ],
      "execution_count": 5,
      "metadata": {
        "jupyter": {
          "source_hidden": false,
          "outputs_hidden": false
        },
        "nteract": {
          "transient": {
            "deleting": false
          }
        },
        "gather": {
          "logged": 1655453458827
        }
      }
    }
  ],
  "metadata": {
    "kernelspec": {
      "name": "python38-azureml",
      "language": "python",
      "display_name": "Python 3.8 - AzureML"
    },
    "language_info": {
      "name": "python",
      "version": "3.8.5",
      "mimetype": "text/x-python",
      "codemirror_mode": {
        "name": "ipython",
        "version": 3
      },
      "pygments_lexer": "ipython3",
      "nbconvert_exporter": "python",
      "file_extension": ".py"
    },
    "kernel_info": {
      "name": "python38-azureml"
    },
    "nteract": {
      "version": "nteract-front-end@1.0.0"
    },
    "microsoft": {
      "host": {
        "AzureML": {
          "notebookHasBeenCompleted": true
        }
      }
    }
  },
  "nbformat": 4,
  "nbformat_minor": 2
}